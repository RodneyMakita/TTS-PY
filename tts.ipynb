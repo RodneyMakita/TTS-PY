{
 "cells": [
  {
   "cell_type": "code",
   "execution_count": 9,
   "metadata": {},
   "outputs": [],
   "source": [
    "import os\n",
    "import re\n",
    "\n",
    "def read_text_file(file_path, encoding='utf-8'):\n",
    "    with open(file_path, 'r', encoding=encoding) as file:\n",
    "        return file.readlines()\n",
    "\n",
    "def clean_text(text):\n",
    "    # Remove numbers\n",
    "    text = re.sub(r'\\d+', '', text)\n",
    "    \n",
    "    # Remove special characters except for punctuation\n",
    "    text = re.sub(r'[^a-zA-Z0-9\\s.,?!]', '', text)\n",
    "    \n",
    "    # Separate sentences based on punctuation marks\n",
    "    text = re.sub(r'\\.\\s+', '. ', text)\n",
    "    text = re.sub(r'\\?\\s+', '? ', text)\n",
    "    text = re.sub(r'!\\s+', '! ', text)\n",
    "    \n",
    "    return text"
   ]
  },
  {
   "cell_type": "code",
   "execution_count": 10,
   "metadata": {},
   "outputs": [],
   "source": [
    "def categorize_sentences(sentences):\n",
    "    clean_text = []\n",
    "    text_with_numbers = []\n",
    "    nonsensical_text = []\n",
    "    \n",
    "    for sentence in sentences:\n",
    "        sentence = sentence.strip()\n",
    "        if sentence:\n",
    "            if any(char.isdigit() for char in sentence):\n",
    "                text_with_numbers.append(sentence)\n",
    "            elif is_coherent(sentence):\n",
    "                clean_text.append(sentence)\n",
    "            else:\n",
    "                nonsensical_text.append(sentence)\n",
    "    \n",
    "    return clean_text, text_with_numbers, nonsensical_text"
   ]
  },
  {
   "cell_type": "code",
   "execution_count": 11,
   "metadata": {},
   "outputs": [],
   "source": [
    "def is_coherent(sentence):\n",
    "    # Implement coherence check logic here\n",
    "    # For simplicity, let's assume any sentence with less than 3 words is nonsensical\n",
    "    words = sentence.split()\n",
    "    return len(words) >= 3"
   ]
  },
  {
   "cell_type": "code",
   "execution_count": 12,
   "metadata": {},
   "outputs": [
    {
     "name": "stdout",
     "output_type": "stream",
     "text": [
      "Files created successfully for 'Afrikaans_temp.txt'.\n",
      "Files created successfully for 'bulayo-lo-talifhaho.txt'.\n",
      "Files created successfully for 'Zadie Smith - White Teeth-Vintage (2001).txt'.\n",
      "All files processed and saved in the 'output' folder.\n"
     ]
    }
   ],
   "source": [
    "def create_text_file(file_path, lines):\n",
    "    with open(file_path, 'w') as file:\n",
    "        file.write('\\n'.join(lines))\n",
    "\n",
    "def main():\n",
    "    input_folder = \"input\"\n",
    "    output_folder = \"output\"\n",
    "    \n",
    "    # Create the output folder if it doesn't exist\n",
    "    if not os.path.exists(output_folder):\n",
    "        os.makedirs(output_folder)\n",
    "\n",
    "    # Step 1: Data Reading\n",
    "    input_files = [file for file in os.listdir(input_folder) if file.endswith('.txt')]\n",
    "    for input_file in input_files:\n",
    "        input_path = os.path.join(input_folder, input_file)\n",
    "        input_lines = read_text_file(input_path)\n",
    "\n",
    "        # Step 2: Cleaning\n",
    "        cleaned_lines = [clean_text(line) for line in input_lines]\n",
    "\n",
    "        # Step 3: Organization\n",
    "        clean_text_result, text_with_numbers, nonsensical_text = categorize_sentences(cleaned_lines)\n",
    "\n",
    "        # Step 4: File Creation\n",
    "        file_name_without_extension = os.path.splitext(input_file)[0]\n",
    "        output_file_clean_text = os.path.join(output_folder, file_name_without_extension + \"_clean_text.txt\")\n",
    "        output_file_text_with_numbers = os.path.join(output_folder, file_name_without_extension + \"_text_with_numbers.txt\")\n",
    "        output_file_nonsensical_text = os.path.join(output_folder, file_name_without_extension + \"_nonsensical_text.txt\")\n",
    "        \n",
    "        create_text_file(output_file_clean_text, [\"Clean Text:\"] + clean_text_result)\n",
    "        create_text_file(output_file_text_with_numbers, [\"Text with Numbers:\"] + text_with_numbers)\n",
    "        create_text_file(output_file_nonsensical_text, [\"Nonsensical Text:\"] + nonsensical_text)\n",
    "\n",
    "        print(\"Files created successfully for '{}'.\".format(input_file))\n",
    "\n",
    "    print(\"All files processed and saved in the '{}' folder.\".format(output_folder))\n",
    "\n",
    "if __name__ == \"__main__\":\n",
    "    main()"
   ]
  }
 ],
 "metadata": {
  "kernelspec": {
   "display_name": "Python 3",
   "language": "python",
   "name": "python3"
  },
  "language_info": {
   "codemirror_mode": {
    "name": "ipython",
    "version": 3
   },
   "file_extension": ".py",
   "mimetype": "text/x-python",
   "name": "python",
   "nbconvert_exporter": "python",
   "pygments_lexer": "ipython3",
   "version": "3.12.1"
  }
 },
 "nbformat": 4,
 "nbformat_minor": 2
}
